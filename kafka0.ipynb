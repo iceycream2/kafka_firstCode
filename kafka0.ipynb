{
 "cells": [
  {
   "cell_type": "code",
   "execution_count": 1,
   "metadata": {},
   "outputs": [],
   "source": [
    "from kafka import KafkaProducer\n",
    "producer=KafkaProducer(bootstrap_servers='localhost:9092')\n",
    "msg=\"hello,world\".encode('utf-8')\n",
    "producer.send('test',msg)\n",
    "producer.close()"
   ]
  },
  {
   "cell_type": "code",
   "execution_count": null,
   "metadata": {},
   "outputs": [],
   "source": [
    "from kafka import KafkaConsumer\n",
    "\n",
    "consumer=KafkaConsumer('test',bootstrap_servers=['localhost:9092'],group_id=None,auto_offset_reset='earliest')\n",
    "for msg in consumer:\n",
    "    recv=\"主题为%s,分区为%d,偏移为%d,key=%s value=%s\"% (msg.topic,msg.partition,msg.offset,msg.key,msg.value)\n",
    "    print(recv)"
   ]
  }
 ],
 "metadata": {
  "kernelspec": {
   "display_name": "Python 3",
   "language": "python",
   "name": "python3"
  },
  "language_info": {
   "codemirror_mode": {
    "name": "ipython",
    "version": 3
   },
   "file_extension": ".py",
   "mimetype": "text/x-python",
   "name": "python",
   "nbconvert_exporter": "python",
   "pygments_lexer": "ipython3",
   "version": "3.10.11"
  }
 },
 "nbformat": 4,
 "nbformat_minor": 2
}
