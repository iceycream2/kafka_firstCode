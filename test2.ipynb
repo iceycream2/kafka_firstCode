{
 "cells": [
  {
   "cell_type": "code",
   "execution_count": 3,
   "metadata": {},
   "outputs": [],
   "source": [
    "from kafka import KafkaProducer\n",
    "import json\n",
    "# 打开一个json文件\n",
    "data = open(\"data.json\")\n",
    "# 转换\n",
    "strJson = json.load(data)\n",
    "producer = KafkaProducer(bootstrap_servers='localhost:9092',value_serializer=lambda v:json.dumps(v).encode('utf-8'))\n",
    "producer.send('json_topic',strJson)\n",
    "producer.close()"
   ]
  },
  {
   "cell_type": "code",
   "execution_count": null,
   "metadata": {},
   "outputs": [],
   "source": [
    "from kafka import KafkaConsumer, TopicPartition, OffsetAndMetadata\n",
    "\n",
    "consumer = KafkaConsumer('json_topic',bootstrap_servers=['localhost:9092'],group_id=None,auto_offset_reset='earliest')\n",
    "for msg in consumer:\n",
    "\tmsg1=str(msg.value,encoding=\"utf-8\")\n",
    "\tprint(msg1)"
   ]
  }
 ],
 "metadata": {
  "kernelspec": {
   "display_name": "Python 3",
   "language": "python",
   "name": "python3"
  },
  "language_info": {
   "codemirror_mode": {
    "name": "ipython",
    "version": 3
   },
   "file_extension": ".py",
   "mimetype": "text/x-python",
   "name": "python",
   "nbconvert_exporter": "python",
   "pygments_lexer": "ipython3",
   "version": "3.10.11"
  }
 },
 "nbformat": 4,
 "nbformat_minor": 2
}
