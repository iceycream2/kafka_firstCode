{
 "cells": [
  {
   "cell_type": "code",
   "execution_count": 3,
   "metadata": {},
   "outputs": [],
   "source": [
    "from kafka import KafkaProducer\n",
    "import json\n",
    "import pymysql.cursors\n",
    "\n",
    "producer = KafkaProducer(bootstrap_servers='localhost:9092',value_serializer=lambda v:json.dumps(v).encode('utf-8'))\n",
    "\n",
    "connect=pymysql.Connect(\n",
    "\thost='localhost',\n",
    "\tport=3306,\n",
    "\tuser='root',\n",
    "\tpasswd='153517',\n",
    "\tdb='kafka',\n",
    "\tcharset='utf8'\n",
    "\t)\n",
    "cursor=connect.cursor()\n",
    "sql=\"select sno,sname,ssex,sage from student;\"\n",
    "cursor.execute(sql)\n",
    "data = cursor.fetchall()\n",
    "connect.commit()\n",
    "\n",
    "for msg in data:\n",
    "\tres={}\n",
    "\tres['sno']=msg[0]\n",
    "\tres['name']=msg[1]\n",
    "\tres['sex']=msg[2]\n",
    "\tres['age']=msg[3]\n",
    "\tproducer.send('mysql_topic', res)\n",
    "\n",
    "connect.close()\n",
    "producer.close()\n"
   ]
  },
  {
   "cell_type": "code",
   "execution_count": null,
   "metadata": {},
   "outputs": [],
   "source": [
    "from kafka import KafkaConsumer\n",
    "import json\n",
    "import pymysql.cursors\n",
    "\n",
    "consumer = KafkaConsumer('mysql_topic',bootstrap_servers=['localhost:9092'],group_id=None,auto_offset_reset='earliest')\n",
    "for msg in consumer:\n",
    "\tmsg1=str(msg.value,encoding=\"utf-8\")\n",
    "\tdata=json.loads(msg1)\n",
    "\tprint(data)\n"
   ]
  }
 ],
 "metadata": {
  "kernelspec": {
   "display_name": "Python 3",
   "language": "python",
   "name": "python3"
  },
  "language_info": {
   "codemirror_mode": {
    "name": "ipython",
    "version": 3
   },
   "file_extension": ".py",
   "mimetype": "text/x-python",
   "name": "python",
   "nbconvert_exporter": "python",
   "pygments_lexer": "ipython3",
   "version": "3.10.11"
  }
 },
 "nbformat": 4,
 "nbformat_minor": 2
}
