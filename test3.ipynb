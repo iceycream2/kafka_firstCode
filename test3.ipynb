{
 "cells": [
  {
   "cell_type": "code",
   "execution_count": 11,
   "metadata": {},
   "outputs": [],
   "source": [
    "from kafka import KafkaProducer\n",
    "import uuid\n",
    "\n",
    "# 初始化Kafka生产者\n",
    "producer = KafkaProducer(bootstrap_servers='localhost:9092')\n",
    "\n",
    "for i in range(10):  # 发送3条消息\n",
    "    message = str(uuid.uuid4())+\"序号为\"+str(i)  # 生成UUID\n",
    "    if(i<5):\n",
    "        producer.send('demo3', message.encode('utf-8'),partition=0)# 发送消息\n",
    "    else:\n",
    "        producer.send('demo3', message.encode('utf-8'),partition=1)\n",
    "\n",
    "producer.close()"
   ]
  },
  {
   "cell_type": "code",
   "execution_count": null,
   "metadata": {},
   "outputs": [],
   "source": [
    "from kafka import KafkaConsumer, TopicPartition\n",
    "\n",
    "consumer = KafkaConsumer(bootstrap_servers='localhost:9092',group_id=None,auto_offset_reset='earliest')\n",
    "\n",
    "tp = TopicPartition('demo3',0)\n",
    "consumer.assign([tp])\n",
    "\n",
    "for message in consumer:\n",
    "    print(\"message from partition 0: {}\".format(message.value.decode('utf-8')))"
   ]
  },
  {
   "cell_type": "code",
   "execution_count": null,
   "metadata": {},
   "outputs": [],
   "source": [
    "from kafka import KafkaConsumer, TopicPartition\n",
    "\n",
    "consumer = KafkaConsumer(bootstrap_servers='localhost:9092',group_id=None,auto_offset_reset='earliest')\n",
    "\n",
    "tp = TopicPartition('demo3',1)\n",
    "consumer.assign([tp])\n",
    "\n",
    "for message in consumer:\n",
    "    print(\"message from partition 1: {}\".format(message.value.decode('utf-8')))"
   ]
  }
 ],
 "metadata": {
  "kernelspec": {
   "display_name": "Python 3",
   "language": "python",
   "name": "python3"
  },
  "language_info": {
   "codemirror_mode": {
    "name": "ipython",
    "version": 3
   },
   "file_extension": ".py",
   "mimetype": "text/x-python",
   "name": "python",
   "nbconvert_exporter": "python",
   "pygments_lexer": "ipython3",
   "version": "3.10.11"
  }
 },
 "nbformat": 4,
 "nbformat_minor": 2
}
